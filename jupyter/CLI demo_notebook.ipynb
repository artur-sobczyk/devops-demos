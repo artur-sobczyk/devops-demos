{
 "cells": [
  {
   "cell_type": "markdown",
   "metadata": {},
   "source": [
    "# Demonstration of AWS CLI:\n",
    "\n",
    "- [configure](https://docs.aws.amazon.com/cli/latest/userguide/cli-chap-configure.html)\n",
    "- [documentation](https://docs.aws.amazon.com/cli/latest/reference/)"
   ]
  },
  {
   "cell_type": "markdown",
   "metadata": {},
   "source": [
    "#### check instalation:"
   ]
  },
  {
   "cell_type": "code",
   "execution_count": null,
   "metadata": {
    "scrolled": true
   },
   "outputs": [],
   "source": [
    "! aws --version\n",
    "! type aws"
   ]
  },
  {
   "cell_type": "markdown",
   "metadata": {},
   "source": [
    "#### show help options: "
   ]
  },
  {
   "cell_type": "code",
   "execution_count": null,
   "metadata": {},
   "outputs": [],
   "source": [
    "! aws s3 sync help"
   ]
  },
  {
   "cell_type": "markdown",
   "metadata": {},
   "source": [
    "#### who we are?"
   ]
  },
  {
   "cell_type": "code",
   "execution_count": null,
   "metadata": {},
   "outputs": [],
   "source": [
    "! aws sts get-caller-identity"
   ]
  },
  {
   "cell_type": "markdown",
   "metadata": {},
   "source": [
    "#### debugging..."
   ]
  },
  {
   "cell_type": "code",
   "execution_count": null,
   "metadata": {},
   "outputs": [],
   "source": [
    "! aws sts get-caller-identity --debug"
   ]
  },
  {
   "cell_type": "code",
   "execution_count": null,
   "metadata": {},
   "outputs": [],
   "source": [
    "! aws sts get-caller-identity --debug 2>&1 | grep \"credentials\""
   ]
  },
  {
   "cell_type": "markdown",
   "metadata": {},
   "source": [
    "#### listing regions:\n",
    "\n",
    "- json, text, yaml, table [formats](https://docs.aws.amazon.com/cli/latest/userguide/cli-usage-output-format.html)"
   ]
  },
  {
   "cell_type": "code",
   "execution_count": null,
   "metadata": {},
   "outputs": [],
   "source": [
    "! aws ec2 describe-regions --output json"
   ]
  },
  {
   "cell_type": "markdown",
   "metadata": {},
   "source": [
    "#### test if you have permissions to invoke"
   ]
  },
  {
   "cell_type": "code",
   "execution_count": null,
   "metadata": {},
   "outputs": [],
   "source": [
    "! aws ec2 describe-regions --dry-run"
   ]
  },
  {
   "cell_type": "markdown",
   "metadata": {},
   "source": [
    "#### filtering, constrains:\n",
    " - [jmespath](https://jmespath.org/)\n",
    " - [query](https://docs.aws.amazon.com/cli/latest/userguide/cli-usage-filter.html#cli-usage-filter-client-side-advanced)\n",
    " "
   ]
  },
  {
   "cell_type": "code",
   "execution_count": null,
   "metadata": {},
   "outputs": [],
   "source": [
    "! aws ec2 describe-regions --query 'Regions[*]'"
   ]
  },
  {
   "cell_type": "code",
   "execution_count": null,
   "metadata": {},
   "outputs": [],
   "source": [
    "! aws ec2 describe-regions --query 'Regions[0]'"
   ]
  },
  {
   "cell_type": "code",
   "execution_count": null,
   "metadata": {},
   "outputs": [],
   "source": [
    "! aws ec2 describe-regions --query \"Regions[?starts_with(RegionName, 'eu')]\""
   ]
  },
  {
   "cell_type": "markdown",
   "metadata": {},
   "source": [
    "#### projections:"
   ]
  },
  {
   "cell_type": "code",
   "execution_count": null,
   "metadata": {},
   "outputs": [],
   "source": [
    "! aws ec2 describe-regions --query 'Regions[*].[RegionName, Endpoint]'"
   ]
  },
  {
   "cell_type": "markdown",
   "metadata": {},
   "source": [
    "#### use skeleton\n",
    "\n",
    "- [docs](https://docs.aws.amazon.com/cli/latest/userguide/cli-usage-skeleton.html)\n",
    "\n",
    "##### Example command:\n",
    "\n",
    "    ws s3api create-bucket \\\n",
    "    --bucket artsobcz-cli-demo-bucket \\\n",
    "    --create-bucket-configuration LocationConstraint=eu-west-1"
   ]
  },
  {
   "cell_type": "code",
   "execution_count": null,
   "metadata": {},
   "outputs": [],
   "source": [
    "! aws s3api create-bucket --generate-cli-skeleton"
   ]
  },
  {
   "cell_type": "code",
   "execution_count": null,
   "metadata": {},
   "outputs": [],
   "source": [
    "%%bash\n",
    "tee -a ./create_bucket_args.json << END\n",
    "{\n",
    "    \"Bucket\": \"artsobcz-cli-demo-bucket\",\n",
    "    \"CreateBucketConfiguration\": {\n",
    "        \"LocationConstraint\": \"eu-west-1\"\n",
    "    }\n",
    "}\n",
    "END"
   ]
  },
  {
   "cell_type": "code",
   "execution_count": null,
   "metadata": {},
   "outputs": [],
   "source": [
    "! aws s3api create-bucket --cli-input-json file://create_bucket_args.json --debug"
   ]
  },
  {
   "cell_type": "code",
   "execution_count": null,
   "metadata": {},
   "outputs": [],
   "source": [
    "! aws s3api delete-bucket --bucket artsobcz-cli-demo-bucket"
   ]
  },
  {
   "cell_type": "markdown",
   "metadata": {},
   "source": [
    "#### assume role:"
   ]
  },
  {
   "cell_type": "code",
   "execution_count": null,
   "metadata": {},
   "outputs": [],
   "source": [
    "! aws iam get-role --role-name s3_demo_role"
   ]
  },
  {
   "cell_type": "code",
   "execution_count": null,
   "metadata": {},
   "outputs": [],
   "source": [
    "! aws iam list-attached-role-policies --role-name s3_demo_role"
   ]
  },
  {
   "cell_type": "code",
   "execution_count": null,
   "metadata": {},
   "outputs": [],
   "source": [
    "%%bash\n",
    "echo -e \"\\nwho we are without role:\\n\"\n",
    "aws sts get-caller-identity\n",
    "\n",
    "result=$(aws sts assume-role --role-arn arn:aws:iam::695414717878:role/s3_demo_role --role-session-name test | jq '.')\n",
    "\n",
    "export AWS_ACCESS_KEY_ID=`echo $result | jq -r \".Credentials.AccessKeyId\"`\n",
    "export AWS_SECRET_ACCESS_KEY=`echo $result | jq -r \".Credentials.SecretAccessKey\"`\n",
    "export AWS_SESSION_TOKEN=`echo $result | jq -r \".Credentials.SessionToken\"`\n",
    "\n",
    "echo -e \"\\nAWS env variables:\\n\"\n",
    "printenv | grep AWS\n",
    "\n",
    "echo -e \"\\nwho we are with role:\\n\"\n",
    "aws sts get-caller-identity\n",
    "\n",
    "unset AWS_ACCESS_KEY_ID AWS_SECRET_ACCESS_KEY AWS_ROLE_SESSION_NAME"
   ]
  }
 ],
 "metadata": {
  "kernelspec": {
   "display_name": "Python 3",
   "language": "python",
   "name": "python3"
  },
  "language_info": {
   "codemirror_mode": {
    "name": "ipython",
    "version": 3
   },
   "file_extension": ".py",
   "mimetype": "text/x-python",
   "name": "python",
   "nbconvert_exporter": "python",
   "pygments_lexer": "ipython3",
   "version": "3.7.3"
  }
 },
 "nbformat": 4,
 "nbformat_minor": 2
}
